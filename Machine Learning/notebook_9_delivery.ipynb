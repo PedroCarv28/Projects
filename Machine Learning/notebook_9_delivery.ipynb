{
 "cells": [
  {
   "cell_type": "markdown",
   "id": "ca4701c3-2308-4bf8-a583-2b42f2b6140a",
   "metadata": {},
   "source": [
    "<b>Case 4 - Millennium BCP\n",
    "<br>Group H\n",
    "\n",
    "<br>| Ana Teresa Maia | r20201562 |\n",
    "<br>| Henrique Falcão | r20201519 |\n",
    "<br>| Maria Benedita Elias | 20230491 |\n",
    "<br>| Maria Leonor Gusmão | 20230488 |\n",
    "<br>| Pedro  Carvalho | 20230487 |\n",
    "\n",
    "\n",
    "<br>Business Cases for Data Science S2 2023/2024"
   ]
  },
  {
   "cell_type": "markdown",
   "id": "62d3483b-9657-46b6-b693-fcc629fd9062",
   "metadata": {},
   "source": [
    "This Dataset is to be applied for the Processes that just entered their 9th activity."
   ]
  },
  {
   "cell_type": "code",
   "execution_count": 2,
   "id": "793f3997-459c-4336-ac3b-da2b9d1b366f",
   "metadata": {},
   "outputs": [],
   "source": [
    "import pandas as pd"
   ]
  },
  {
   "cell_type": "markdown",
   "id": "926cf9c0-2560-4edd-adab-3793b3753690",
   "metadata": {},
   "source": [
    "### Dataset Load"
   ]
  },
  {
   "cell_type": "code",
   "execution_count": 3,
   "id": "1b516987-3a24-47e6-95d8-3aa92e3f8b1c",
   "metadata": {},
   "outputs": [],
   "source": [
    "dataset = pd.read_csv('processed_and_transformed_subset_9.csv')"
   ]
  },
  {
   "cell_type": "code",
   "execution_count": 4,
   "id": "debaf808-e96d-492b-96c0-1ee06466d093",
   "metadata": {},
   "outputs": [
    {
     "data": {
      "text/html": [
       "<div>\n",
       "<style scoped>\n",
       "    .dataframe tbody tr th:only-of-type {\n",
       "        vertical-align: middle;\n",
       "    }\n",
       "\n",
       "    .dataframe tbody tr th {\n",
       "        vertical-align: top;\n",
       "    }\n",
       "\n",
       "    .dataframe thead th {\n",
       "        text-align: right;\n",
       "    }\n",
       "</style>\n",
       "<table border=\"1\" class=\"dataframe\">\n",
       "  <thead>\n",
       "    <tr style=\"text-align: right;\">\n",
       "      <th></th>\n",
       "      <th>Task arrival date_act1</th>\n",
       "      <th>Task arrival date_act2</th>\n",
       "      <th>Task arrival date_act3</th>\n",
       "      <th>Task arrival date_act4</th>\n",
       "      <th>Task arrival date_act5</th>\n",
       "      <th>Task arrival date_act6</th>\n",
       "      <th>Task arrival date_act7</th>\n",
       "      <th>Task arrival date_act8</th>\n",
       "      <th>Actvity ID_act1</th>\n",
       "      <th>Actvity ID_act2</th>\n",
       "      <th>...</th>\n",
       "      <th>Value_20</th>\n",
       "      <th>Value_100</th>\n",
       "      <th>Value_60</th>\n",
       "      <th>Value_2</th>\n",
       "      <th>Value_40</th>\n",
       "      <th>Value_1</th>\n",
       "      <th>Value_80</th>\n",
       "      <th>Value_90</th>\n",
       "      <th>Actvity ID_last_act9</th>\n",
       "      <th>Task arrival date_last_act9</th>\n",
       "    </tr>\n",
       "  </thead>\n",
       "  <tbody>\n",
       "    <tr>\n",
       "      <th>0</th>\n",
       "      <td>2023-05-22 14:22:37.157</td>\n",
       "      <td>2023-05-22 14:22:41.627</td>\n",
       "      <td>2023-05-23 08:51:18.417</td>\n",
       "      <td>2023-05-23 09:38:11.167</td>\n",
       "      <td>2023-05-23 09:45:21.737</td>\n",
       "      <td>2023-05-23 09:52:57.190</td>\n",
       "      <td>2023-05-23 10:01:59.513</td>\n",
       "      <td>2023-05-23 10:19:14.557</td>\n",
       "      <td>100</td>\n",
       "      <td>102</td>\n",
       "      <td>...</td>\n",
       "      <td>0</td>\n",
       "      <td>0</td>\n",
       "      <td>0</td>\n",
       "      <td>0</td>\n",
       "      <td>0</td>\n",
       "      <td>0</td>\n",
       "      <td>0</td>\n",
       "      <td>1</td>\n",
       "      <td>102</td>\n",
       "      <td>2023-05-23 10:26:18.300</td>\n",
       "    </tr>\n",
       "    <tr>\n",
       "      <th>1</th>\n",
       "      <td>2023-09-12 09:06:55.950</td>\n",
       "      <td>2023-09-12 09:07:27.513</td>\n",
       "      <td>2023-09-12 10:56:45.970</td>\n",
       "      <td>2023-09-12 10:59:25.233</td>\n",
       "      <td>2023-09-12 11:05:18.667</td>\n",
       "      <td>2023-09-12 11:14:04.363</td>\n",
       "      <td>2023-09-12 11:28:42.230</td>\n",
       "      <td>2023-09-12 11:51:00.383</td>\n",
       "      <td>100</td>\n",
       "      <td>102</td>\n",
       "      <td>...</td>\n",
       "      <td>0</td>\n",
       "      <td>0</td>\n",
       "      <td>1</td>\n",
       "      <td>0</td>\n",
       "      <td>0</td>\n",
       "      <td>0</td>\n",
       "      <td>0</td>\n",
       "      <td>0</td>\n",
       "      <td>102</td>\n",
       "      <td>2023-09-12 11:52:23.297</td>\n",
       "    </tr>\n",
       "    <tr>\n",
       "      <th>2</th>\n",
       "      <td>2023-10-13 08:38:21.240</td>\n",
       "      <td>2023-10-13 08:38:22.493</td>\n",
       "      <td>2023-10-13 11:17:31.260</td>\n",
       "      <td>2023-10-13 14:43:49.880</td>\n",
       "      <td>2023-10-13 15:17:07.153</td>\n",
       "      <td>2023-10-16 05:58:56.527</td>\n",
       "      <td>2023-10-16 09:01:22.177</td>\n",
       "      <td>2023-10-16 09:10:09.547</td>\n",
       "      <td>100</td>\n",
       "      <td>102</td>\n",
       "      <td>...</td>\n",
       "      <td>0</td>\n",
       "      <td>1</td>\n",
       "      <td>0</td>\n",
       "      <td>0</td>\n",
       "      <td>0</td>\n",
       "      <td>0</td>\n",
       "      <td>0</td>\n",
       "      <td>0</td>\n",
       "      <td>102</td>\n",
       "      <td>2023-10-16 09:11:38.187</td>\n",
       "    </tr>\n",
       "    <tr>\n",
       "      <th>3</th>\n",
       "      <td>2023-12-04 17:28:15.190</td>\n",
       "      <td>2023-12-04 17:28:15.487</td>\n",
       "      <td>2023-12-05 08:49:26.603</td>\n",
       "      <td>2023-12-05 09:14:14.067</td>\n",
       "      <td>2023-12-05 09:20:04.450</td>\n",
       "      <td>2023-12-05 09:32:26.297</td>\n",
       "      <td>2023-12-05 09:52:10.823</td>\n",
       "      <td>2023-12-05 17:20:30.473</td>\n",
       "      <td>100</td>\n",
       "      <td>102</td>\n",
       "      <td>...</td>\n",
       "      <td>0</td>\n",
       "      <td>1</td>\n",
       "      <td>0</td>\n",
       "      <td>0</td>\n",
       "      <td>0</td>\n",
       "      <td>0</td>\n",
       "      <td>0</td>\n",
       "      <td>0</td>\n",
       "      <td>102</td>\n",
       "      <td>2023-12-06 08:54:37.123</td>\n",
       "    </tr>\n",
       "  </tbody>\n",
       "</table>\n",
       "<p>4 rows × 151 columns</p>\n",
       "</div>"
      ],
      "text/plain": [
       "    Task arrival date_act1   Task arrival date_act2   Task arrival date_act3  \\\n",
       "0  2023-05-22 14:22:37.157  2023-05-22 14:22:41.627  2023-05-23 08:51:18.417   \n",
       "1  2023-09-12 09:06:55.950  2023-09-12 09:07:27.513  2023-09-12 10:56:45.970   \n",
       "2  2023-10-13 08:38:21.240  2023-10-13 08:38:22.493  2023-10-13 11:17:31.260   \n",
       "3  2023-12-04 17:28:15.190  2023-12-04 17:28:15.487  2023-12-05 08:49:26.603   \n",
       "\n",
       "    Task arrival date_act4   Task arrival date_act5   Task arrival date_act6  \\\n",
       "0  2023-05-23 09:38:11.167  2023-05-23 09:45:21.737  2023-05-23 09:52:57.190   \n",
       "1  2023-09-12 10:59:25.233  2023-09-12 11:05:18.667  2023-09-12 11:14:04.363   \n",
       "2  2023-10-13 14:43:49.880  2023-10-13 15:17:07.153  2023-10-16 05:58:56.527   \n",
       "3  2023-12-05 09:14:14.067  2023-12-05 09:20:04.450  2023-12-05 09:32:26.297   \n",
       "\n",
       "    Task arrival date_act7   Task arrival date_act8  Actvity ID_act1  \\\n",
       "0  2023-05-23 10:01:59.513  2023-05-23 10:19:14.557              100   \n",
       "1  2023-09-12 11:28:42.230  2023-09-12 11:51:00.383              100   \n",
       "2  2023-10-16 09:01:22.177  2023-10-16 09:10:09.547              100   \n",
       "3  2023-12-05 09:52:10.823  2023-12-05 17:20:30.473              100   \n",
       "\n",
       "   Actvity ID_act2  ...  Value_20  Value_100  Value_60  Value_2  Value_40  \\\n",
       "0              102  ...         0          0         0        0         0   \n",
       "1              102  ...         0          0         1        0         0   \n",
       "2              102  ...         0          1         0        0         0   \n",
       "3              102  ...         0          1         0        0         0   \n",
       "\n",
       "   Value_1  Value_80  Value_90  Actvity ID_last_act9  \\\n",
       "0        0         0         1                   102   \n",
       "1        0         0         0                   102   \n",
       "2        0         0         0                   102   \n",
       "3        0         0         0                   102   \n",
       "\n",
       "   Task arrival date_last_act9  \n",
       "0      2023-05-23 10:26:18.300  \n",
       "1      2023-09-12 11:52:23.297  \n",
       "2      2023-10-16 09:11:38.187  \n",
       "3      2023-12-06 08:54:37.123  \n",
       "\n",
       "[4 rows x 151 columns]"
      ]
     },
     "execution_count": 4,
     "metadata": {},
     "output_type": "execute_result"
    }
   ],
   "source": [
    "dataset"
   ]
  },
  {
   "cell_type": "markdown",
   "id": "19f38f95-7479-434a-8532-d31475f7fb64",
   "metadata": {},
   "source": [
    "As we can see, this subset only has 4 rows and unfortunatly, we are not able to develop a model for this reason. "
   ]
  },
  {
   "cell_type": "markdown",
   "id": "749fbee5-40db-4564-89eb-c2ac546e3212",
   "metadata": {},
   "source": [
    "This are the target values for this subset, we only have target 0 and 2"
   ]
  },
  {
   "cell_type": "code",
   "execution_count": 6,
   "id": "0f911ae8-6aaa-4558-90a6-d46c22e390c3",
   "metadata": {},
   "outputs": [
    {
     "data": {
      "text/plain": [
       "0    0\n",
       "1    2\n",
       "2    0\n",
       "3    0\n",
       "Name: Target, dtype: int64"
      ]
     },
     "execution_count": 6,
     "metadata": {},
     "output_type": "execute_result"
    }
   ],
   "source": [
    "dataset[\"Target\"]"
   ]
  },
  {
   "cell_type": "markdown",
   "id": "c60fd4c6-74cb-4236-ac95-6cb94fb4c09f",
   "metadata": {},
   "source": [
    "For this notebook, if we apply majority voting, we predict that the outcome is 0, as it is the most present class. This is a very primitive technique, so we suggest the collection of more data for this subset, so that a model can be built."
   ]
  }
 ],
 "metadata": {
  "kernelspec": {
   "display_name": "Python 3 (ipykernel)",
   "language": "python",
   "name": "python3"
  },
  "language_info": {
   "codemirror_mode": {
    "name": "ipython",
    "version": 3
   },
   "file_extension": ".py",
   "mimetype": "text/x-python",
   "name": "python",
   "nbconvert_exporter": "python",
   "pygments_lexer": "ipython3",
   "version": "3.11.8"
  }
 },
 "nbformat": 4,
 "nbformat_minor": 5
}
